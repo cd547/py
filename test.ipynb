{
 "cells": [
  {
   "cell_type": "code",
   "execution_count": 46,
   "metadata": {},
   "outputs": [],
   "source": [
    "# 导入pandas库\n",
    "import pandas as pd\n",
    "import hashlib\n",
    "# pd.set_option('display.max_rows', None)\n",
    "# pd.set_option('display.max_columns', None)\n",
    "# pd.set_option('display.width', None)\n",
    "# pd.set_option('display.max_colwidth', None)\n",
    "\n",
    "# 定义一个函数来进行MD5加密\n",
    "def encrypt_md5(input_string):\n",
    "    input_string = str(input_string)\n",
    "    if isinstance(input_string, str):\n",
    "        md5_hash = hashlib.md5(input_string.encode()).hexdigest()\n",
    "    else:\n",
    "        md5_hash = ''\n",
    "    return md5_hash"
   ]
  },
  {
   "cell_type": "code",
   "execution_count": 47,
   "metadata": {},
   "outputs": [],
   "source": [
    "excel_file = '1_2次md5.xlsx'\n",
    "sheetName=\"08-09年初\"\n",
    "#df = pd.read_csv(excel_file)\n",
    "\n",
    "df = pd.read_excel(excel_file,sheet_name=sheetName)\n",
    "df.insert(5, 'ff', df.iloc[:, 3].apply(encrypt_md5))"
   ]
  },
  {
   "cell_type": "code",
   "execution_count": 49,
   "metadata": {},
   "outputs": [
    {
     "name": "stdout",
     "output_type": "stream",
     "text": [
      "         a                    b    c            d  \\\n",
      "0      黄程威  2008-08-25 00:00:00  王燕卿  13002111073   \n",
      "1      陈蔚萱  2008-07-09 00:00:00   肖丽  13002149335   \n",
      "2  unknown  2008-12-14 00:00:00  傅林海  13002150187   \n",
      "3      李泽恺  2008-11-20 00:00:00  仲晓玲  13002157057   \n",
      "4      吴凡诚  2008-08-08 00:00:00  张亚萍  13002186663   \n",
      "\n",
      "                                  e                                ff  \n",
      "0  fcb5a24cdebee48ed3ad3ec8d0cb733e  9cf68c460f87e58ec6a1ddc92285a9ef  \n",
      "1  de1a57d98d9db9f12d1e17394468c5d3  f93782cffbd0680de7f403d266ccde1d  \n",
      "2  40b315238a680bcc22a8bd55933711db  17ffecab49ea7a5c248e565dedfaaf0f  \n",
      "3  4f278bfa5662929a2b09c851d36b54cd  3554144991a4e523a36755059124a92d  \n",
      "4  679d915955ab4336ec8e8b91b69f24c7  024bd6afb9e7be2552efbbc295793c53  \n",
      "MD5加密完成并已保存至新文件。\n"
     ]
    }
   ],
   "source": [
    "print(df.head())\n",
    "#display(df)\n",
    "#df.to_excel('your_output_file.xlsx', index=False)\n",
    "print(\"MD5加密完成并已保存至新文件。\")"
   ]
  }
 ],
 "metadata": {
  "kernelspec": {
   "display_name": "base",
   "language": "python",
   "name": "python3"
  },
  "language_info": {
   "codemirror_mode": {
    "name": "ipython",
    "version": 3
   },
   "file_extension": ".py",
   "mimetype": "text/x-python",
   "name": "python",
   "nbconvert_exporter": "python",
   "pygments_lexer": "ipython3",
   "version": "3.11.3"
  }
 },
 "nbformat": 4,
 "nbformat_minor": 2
}
