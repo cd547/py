{
 "cells": [
  {
   "cell_type": "code",
   "execution_count": 9,
   "metadata": {},
   "outputs": [
    {
     "name": "stdout",
     "output_type": "stream",
     "text": [
      "0.11.4\n"
     ]
    }
   ],
   "source": [
    "import pdfplumber\n",
    "import re\n",
    "import pandas as pd\n",
    "print(pdfplumber.__version__)"
   ]
  },
  {
   "cell_type": "markdown",
   "metadata": {},
   "source": [
    "## 载入pdf"
   ]
  },
  {
   "cell_type": "code",
   "execution_count": 10,
   "metadata": {},
   "outputs": [],
   "source": [
    "pdf = pdfplumber.open(\"RfQ_0407-2024d_204423_vessel_HELGOLAND_2ZJV(1).pdf\")"
   ]
  },
  {
   "cell_type": "code",
   "execution_count": 11,
   "metadata": {},
   "outputs": [],
   "source": [
    "\n",
    "pageNum=len(pdf.pages)"
   ]
  },
  {
   "cell_type": "code",
   "execution_count": 12,
   "metadata": {},
   "outputs": [
    {
     "name": "stdout",
     "output_type": "stream",
     "text": [
      "处理第 0 页\n",
      "No match found.\n",
      "处理第 1 页\n",
      "处理第 2 页\n",
      "处理第 3 页\n"
     ]
    }
   ],
   "source": [
    "totalStr=''\n",
    "core_pat = re.compile(r\"Qty Price(.*)\", re.DOTALL)\n",
    "for i in range(0,pageNum):\n",
    "    print(f'''处理第 {i} 页''')\n",
    "    p0 = pdf.pages[i]\n",
    "    text = p0.extract_text(keep_blank_chars=True)\n",
    "    # if i==2:\n",
    "    #     print(text)\n",
    "    \n",
    "    core = re.search(core_pat, text)\n",
    "    if core:\n",
    "        currentStr=core.group(1)\n",
    "        currentStr=re.sub(r'Page (\\d+)/(\\d+)', '', currentStr)\n",
    "        currentStr=re.sub(r'Total: \\d+ item\\(s\\)\\.', '', currentStr)\n",
    "        totalStr += currentStr  # 获取第一个捕获组的内容\n",
    "        #print(\"Matched content:\", core)\n",
    "    else:\n",
    "        print(\"No match found.\")"
   ]
  },
  {
   "cell_type": "code",
   "execution_count": 13,
   "metadata": {},
   "outputs": [
    {
     "name": "stdout",
     "output_type": "stream",
     "text": [
      "['1 100,00pcs 65.160.03 BOLTS STAINLESS STEEL M6x50.', '2 100,00pcs 65.160.06 BOLTS STAINLESS STEEL M8x40.', \"3 200,00pcs 65.160.07 'BOLTS STAINLESS STEEL M8x50.\", \"4 200,00pcs 65.160.08 'BOLTS STAINLESS STEEL M8x75.\", '5 200,00pcs N/A BOLTS STAINLESS STEEL M5x20.', \"6 50,00pcs 65.160.36 'BOLTS STAINLESS STEEL M16X60.\", \"7 50,00pcs N/A 'BOLTS STAINLESS STEEL M20X50.\", \"8 50,00pcs N/A 'BOLTS STAINLESS STEEL M20X80.\", \"9 100,00pcs 65.171.03 'NUTS STAINLESS STEEL M6.\", \"10 300,00pcs 65.171.04 'NUTS STAINLESS STEEL M8.\", \"11 200,00pcs 65.171.05 'NUTS STAINLESS STEEL M10.\", \"12 50,00pcs N/A 'NUTS STAINLESS STEEL M20.\", \"13 500,00pcs 65.181.01 'WASHERS STAINLESS STEEL M4.\", \"14 500,00pcs 65.181.02 'WASHERS STAINLESS STEEL M5.\", \"15 200,00pcs 65.181.05 'WASHERS STAINLESS STEEL M10.\", \"16 200,00pcs 65.181.06 'WASHERS STAINLESS STEEL M12.\", \"17 200,00pcs N/A 'WASHERS STAINLESS STEEL M20.\", \"18 1000,00pcs 65.173.04 'M8 NUTS - HEX HEAD LOCKING (NYLON)\", 'STAINLESS STEEL.', '19 5,00PCS 351222 COUPLER QUICK-CONNECT, STAINLESS STEEL', '30SH 3/8..', 'One way ball locking most ordinary type of sockets', '& plugs.  When these sockets and plugs are', 'disconnected, liquid or gas inside will stop flowing', 'automatically on the socket side.', 'IMPA:351222', '20 5,00PCS 351252 COUPLER QUICK-CONNECT, STAINLESS STEEL', '30PH 3/8..', 'One way ball locking most ordinary type of sockets', '& plugs.  When these sockets and plugs are', 'disconnected, liquid or gas inside will stop flowing', 'automatically on the socket side.', 'IMPA:351252', '21 5,00PCS 351223 COUPLER QUICK-CONNECT, STAINLESS STEEL', '40SH 1/2..', 'One way ball locking most ordinary type of sockets', '& plugs.  When these sockets and plugs are', 'disconnected, liquid or gas inside will stop flowing', 'automatically on the socket side.', 'IMPA:351223', '22 5,00PCS 351253 COUPLER QUICK-CONNECT, STAINLESS STEEL', '40PH 1/2..', 'One way ball locking most ordinary type of sockets', '& plugs.  When these sockets and plugs are', 'disconnected, liquid or gas inside will stop flowing', 'automatically on the socket side.', 'IMPA:351253', '23 5,00PCS 351323 COUPLER QUICK-CONNECT, STAINLESS STEEL', '30SM R-3/8..', 'One way ball locking most ordinary type of sockets', '& plugs.  When these sockets and plugs are', 'disconnected, liquid or gas inside will stop flowing', 'automatically on the socket side.', 'IMPA:351323', '24 5,00PCS 351353 COUPLER QUICK-CONNECT, STAINLESS STEEL', '30PM R-3/8..', 'One way ball locking most ordinary type of sockets', '& plugs.  When these sockets and plugs are', 'disconnected, liquid or gas inside will stop flowing', 'automatically on the socket side.', 'IMPA:351353', '25 2,00PCS 351324 COUPLER QUICK-CONNECT, STAINLESS STEEL', '40SM R-1/2..', 'One way ball locking most ordinary type of sockets', '& plugs.  When these sockets and plugs are', 'disconnected, liquid or gas inside will stop flowing', 'automatically on the socket side.', 'IMPA:351324', '26 50,00mtr. 414305020 PVC Hose, TOL-TX, textile reinforced, transparent,', '13 x 3,5 mm, 50 mtr...', 'PVC Hose reinforced, transparent, -20 to +60°C, 50', 'm / roll', 'IMPA:350326', 'Page:224', '27 5,00pcs 415405055 Gardena hose repairer, type 932-50, 1/2..', 'Hose repairer Gardena', 'Page:226', '28 3,00pcs 415405070 Gardena spray nozzle, classic, type 8114-50, 1/2..', 'Nozzle Gardena, classic', 'IMPA:351001', 'Page:226', '29 5,00pcs 415405030 Gardena hose coupling, type 931-50, 1/2..', 'Coupling Gardena', 'Page:225', '30 3,00pcs 415405020 Gardena hose connector, type 915-50, 1/2..', 'Hose connector Gardena', 'Page:225', '31 1,00pcs 403020445 Kraft wrapping paper 50 x 1 mtr...', 'Kraft wrapping paper', 'IMPA:471331', 'Page:68', '32 5,00coil 537000001 Tesa-duct tape, No. 4613, silver, 48 mm x 50 mtr...', 'Duct tape', 'ISSA2006:3375001', 'IMPA:471283', 'Page:68', '33 3,00pcs 406603105 Power glue UHU, 125 g..', 'Power glue', 'ISSA2002:3377102', 'ISSA2006:3377102', 'Page:118', '34 2,00pcs 406603100 Universal glue UHU, 125 g..', 'Universal glue', 'ISSA2002:3377103', 'IMPA:471081', 'Page:118', '35 2,00pcs 4248720013 Putty knife 30 mm with wood handle..', 'Putty knife with wood handle', 'Page:285', '36 5,00pcs 4248720022 Putty knife 60 mm with wood handle..', 'Putty knife with wood handle', 'Page:285', '37 5,00pcs 4248722010 Japan putty knife 50 mm..', 'Japan putty knife', 'Page:285']\n"
     ]
    }
   ],
   "source": [
    "\n",
    "#print(totalStr)\n",
    "lines = re.split(r'\\r\\n|\\n', totalStr)\n",
    "# 去除空字符串\n",
    "filtered_lines = [line for line in lines if line]\n",
    "\n",
    "# 输出结果\n",
    "print(filtered_lines)"
   ]
  },
  {
   "cell_type": "code",
   "execution_count": 14,
   "metadata": {},
   "outputs": [
    {
     "name": "stdout",
     "output_type": "stream",
     "text": [
      "['1 100,00pcs 65.160.03 BOLTS STAINLESS STEEL M6x50.', '2 100,00pcs 65.160.06 BOLTS STAINLESS STEEL M8x40.', \"3 200,00pcs 65.160.07 'BOLTS STAINLESS STEEL M8x50.\", \"4 200,00pcs 65.160.08 'BOLTS STAINLESS STEEL M8x75.\", '5 200,00pcs N/A BOLTS STAINLESS STEEL M5x20.', \"6 50,00pcs 65.160.36 'BOLTS STAINLESS STEEL M16X60.\", \"7 50,00pcs N/A 'BOLTS STAINLESS STEEL M20X50.\", \"8 50,00pcs N/A 'BOLTS STAINLESS STEEL M20X80.\", \"9 100,00pcs 65.171.03 'NUTS STAINLESS STEEL M6.\", \"10 300,00pcs 65.171.04 'NUTS STAINLESS STEEL M8.\", \"11 200,00pcs 65.171.05 'NUTS STAINLESS STEEL M10.\", \"12 50,00pcs N/A 'NUTS STAINLESS STEEL M20.\", \"13 500,00pcs 65.181.01 'WASHERS STAINLESS STEEL M4.\", \"14 500,00pcs 65.181.02 'WASHERS STAINLESS STEEL M5.\", \"15 200,00pcs 65.181.05 'WASHERS STAINLESS STEEL M10.\", \"16 200,00pcs 65.181.06 'WASHERS STAINLESS STEEL M12.\", \"17 200,00pcs N/A 'WASHERS STAINLESS STEEL M20.\", \"18 1000,00pcs 65.173.04 'M8 NUTS - HEX HEAD LOCKING (NYLON)\\nSTAINLESS STEEL.\", '19 5,00PCS 351222 COUPLER QUICK-CONNECT, STAINLESS STEEL\\n30SH 3/8..\\nOne way ball locking most ordinary type of sockets\\n& plugs.  When these sockets and plugs are\\ndisconnected, liquid or gas inside will stop flowing\\nautomatically on the socket side.\\nIMPA:351222', '20 5,00PCS 351252 COUPLER QUICK-CONNECT, STAINLESS STEEL\\n30PH 3/8..\\nOne way ball locking most ordinary type of sockets\\n& plugs.  When these sockets and plugs are\\ndisconnected, liquid or gas inside will stop flowing\\nautomatically on the socket side.\\nIMPA:351252', '21 5,00PCS 351223 COUPLER QUICK-CONNECT, STAINLESS STEEL\\n40SH 1/2..\\nOne way ball locking most ordinary type of sockets\\n& plugs.  When these sockets and plugs are\\ndisconnected, liquid or gas inside will stop flowing\\nautomatically on the socket side.\\nIMPA:351223', '22 5,00PCS 351253 COUPLER QUICK-CONNECT, STAINLESS STEEL\\n40PH 1/2..\\nOne way ball locking most ordinary type of sockets\\n& plugs.  When these sockets and plugs are\\ndisconnected, liquid or gas inside will stop flowing\\nautomatically on the socket side.\\nIMPA:351253', '23 5,00PCS 351323 COUPLER QUICK-CONNECT, STAINLESS STEEL\\n30SM R-3/8..\\nOne way ball locking most ordinary type of sockets\\n& plugs.  When these sockets and plugs are\\ndisconnected, liquid or gas inside will stop flowing\\nautomatically on the socket side.\\nIMPA:351323', '24 5,00PCS 351353 COUPLER QUICK-CONNECT, STAINLESS STEEL\\n30PM R-3/8..\\nOne way ball locking most ordinary type of sockets\\n& plugs.  When these sockets and plugs are\\ndisconnected, liquid or gas inside will stop flowing\\nautomatically on the socket side.\\nIMPA:351353', '25 2,00PCS 351324 COUPLER QUICK-CONNECT, STAINLESS STEEL\\n40SM R-1/2..\\nOne way ball locking most ordinary type of sockets\\n& plugs.  When these sockets and plugs are\\ndisconnected, liquid or gas inside will stop flowing\\nautomatically on the socket side.\\nIMPA:351324', '26 50,00mtr. 414305020 PVC Hose, TOL-TX, textile reinforced, transparent,\\n13 x 3,5 mm, 50 mtr...\\nPVC Hose reinforced, transparent, -20 to +60°C, 50\\nm / roll\\nIMPA:350326\\nPage:224', '27 5,00pcs 415405055 Gardena hose repairer, type 932-50, 1/2..\\nHose repairer Gardena\\nPage:226', '28 3,00pcs 415405070 Gardena spray nozzle, classic, type 8114-50, 1/2..\\nNozzle Gardena, classic\\nIMPA:351001\\nPage:226', '29 5,00pcs 415405030 Gardena hose coupling, type 931-50, 1/2..\\nCoupling Gardena\\nPage:225', '30 3,00pcs 415405020 Gardena hose connector, type 915-50, 1/2..\\nHose connector Gardena\\nPage:225', '31 1,00pcs 403020445 Kraft wrapping paper 50 x 1 mtr...\\nKraft wrapping paper\\nIMPA:471331\\nPage:68', '32 5,00coil 537000001 Tesa-duct tape, No. 4613, silver, 48 mm x 50 mtr...\\nDuct tape\\nISSA2006:3375001\\nIMPA:471283\\nPage:68', '33 3,00pcs 406603105 Power glue UHU, 125 g..\\nPower glue\\nISSA2002:3377102\\nISSA2006:3377102\\nPage:118', '34 2,00pcs 406603100 Universal glue UHU, 125 g..\\nUniversal glue\\nISSA2002:3377103\\nIMPA:471081\\nPage:118', '35 2,00pcs 4248720013 Putty knife 30 mm with wood handle..\\nPutty knife with wood handle\\nPage:285', '36 5,00pcs 4248720022 Putty knife 60 mm with wood handle..\\nPutty knife with wood handle\\nPage:285', '37 5,00pcs 4248722010 Japan putty knife 50 mm..\\nJapan putty knife\\nPage:285']\n"
     ]
    }
   ],
   "source": [
    "res_lines=[]\n",
    "num_list=0\n",
    "for item in filtered_lines:\n",
    "    # 正则表达式模式\n",
    "    pattern = r'(^\\d+\\s)'\n",
    "    pat = re.compile(pattern, re.DOTALL)\n",
    "    findStr = re.search(pat, item)\n",
    "    if findStr:\n",
    "        r=findStr.group(0)\n",
    "        if int(r)>0:\n",
    "            #print(int(r))\n",
    "            #print(\"num_list:\",num_list)\n",
    "            #比较当前的数字是否是序号\n",
    "            if num_list+1==int(r):\n",
    "                num_list=int(r)\n",
    "                #print('new:',r)\n",
    "                res_lines.append(item)\n",
    "            else:\n",
    "                if(len(res_lines)>0):\n",
    "                    res_lines[len(res_lines)-1]+='\\n'+item\n",
    "                \n",
    "        else:\n",
    "             if(len(res_lines)>0):\n",
    "                res_lines[len(res_lines)-1]+='\\n'+item\n",
    "             #print(\"不是数字.\")\n",
    "        \n",
    "    else:\n",
    "        if(len(res_lines)>0):\n",
    "            res_lines[len(res_lines)-1]+='\\n'+item\n",
    "        #print(\"No match found.\")\n",
    "\n",
    "print(res_lines)\n"
   ]
  },
  {
   "cell_type": "markdown",
   "metadata": {},
   "source": [
    "## 处理各个序号下的数据"
   ]
  },
  {
   "cell_type": "code",
   "execution_count": 15,
   "metadata": {},
   "outputs": [
    {
     "name": "stdout",
     "output_type": "stream",
     "text": [
      "[<__main__.RowData object at 0x0000023FD5A20990>, <__main__.RowData object at 0x0000023FD5E37210>, <__main__.RowData object at 0x0000023FD5E36510>, <__main__.RowData object at 0x0000023FD5E37550>, <__main__.RowData object at 0x0000023FD5E37250>, <__main__.RowData object at 0x0000023FD5E313D0>, <__main__.RowData object at 0x0000023FD5E30610>, <__main__.RowData object at 0x0000023FD5E30110>, <__main__.RowData object at 0x0000023FD5E30090>, <__main__.RowData object at 0x0000023FD5E312D0>, <__main__.RowData object at 0x0000023FD5E30390>, <__main__.RowData object at 0x0000023FD5E30290>, <__main__.RowData object at 0x0000023FD47C4C90>, <__main__.RowData object at 0x0000023FD47C5BD0>, <__main__.RowData object at 0x0000023FD6C02150>, <__main__.RowData object at 0x0000023FD6C02550>, <__main__.RowData object at 0x0000023FD6C01C10>, <__main__.RowData object at 0x0000023FD6C02B50>, <__main__.RowData object at 0x0000023FD6C03950>, <__main__.RowData object at 0x0000023FD6C0C990>, <__main__.RowData object at 0x0000023FD6C0CC50>, <__main__.RowData object at 0x0000023FD6C0CF90>, <__main__.RowData object at 0x0000023FD6C0D4D0>, <__main__.RowData object at 0x0000023FD6C0DE90>, <__main__.RowData object at 0x0000023FD6C0D990>, <__main__.RowData object at 0x0000023FD6C0DFD0>, <__main__.RowData object at 0x0000023FD6C0DA50>, <__main__.RowData object at 0x0000023FD6C0E110>, <__main__.RowData object at 0x0000023FD6C0DB90>, <__main__.RowData object at 0x0000023FD6C0E250>, <__main__.RowData object at 0x0000023FD6C0DCD0>, <__main__.RowData object at 0x0000023FD6C0E390>, <__main__.RowData object at 0x0000023FD6C0DD50>, <__main__.RowData object at 0x0000023FD6C0E490>, <__main__.RowData object at 0x0000023FD6C0E6D0>, <__main__.RowData object at 0x0000023FD6C0E950>, <__main__.RowData object at 0x0000023FD6C0E990>]\n"
     ]
    }
   ],
   "source": [
    "data=[]\n",
    "class RowData:\n",
    "    def __setattr__(self, name, value):\n",
    "        self.__dict__[name] = value\n",
    "for item in res_lines:\n",
    "    rowData = RowData()\n",
    "    #根据空格分解\n",
    "     # 正则表达式模式\n",
    "    lines = re.split(r' ', item)\n",
    "    if len(lines)>0:\n",
    "        pattern = r\"(\\d+(?:,\\d+)*(?:\\.\\d+)?)\\s*([\\w\\s]+[\\w\\s]*[^\\w\\s]?)\"\n",
    "        #序号\n",
    "        rowData.Pos = int(lines[0])\n",
    "        \n",
    "        match = re.match(pattern, lines[1])\n",
    "        if match:\n",
    "            number = match.group(1)\n",
    "            unit = match.group(2)\n",
    "            #数量\n",
    "            rowData.Quantity=number\n",
    "            #单位\n",
    "            rowData.Unit=unit\n",
    "        #编码\n",
    "        rowData.Part_number=lines[2]\n",
    "        #描述\n",
    "        rowData.Description=' '.join(lines[2:])\n",
    "    data.append(rowData)\n",
    "\n",
    "print(data)"
   ]
  },
  {
   "cell_type": "markdown",
   "metadata": {},
   "source": [
    "## 导出excel"
   ]
  },
  {
   "cell_type": "code",
   "execution_count": 16,
   "metadata": {},
   "outputs": [
    {
     "name": "stdout",
     "output_type": "stream",
     "text": [
      "数据已导出到 output.xlsx\n"
     ]
    }
   ],
   "source": [
    "# 将对象数组转换为 DataFrame\n",
    "df = pd.DataFrame([\n",
    "    (row.Pos, row.Quantity, row.Unit,row.Part_number, row.Description)\n",
    "    for row in data\n",
    "], columns=['Pos', 'Quantity','Unit', 'Part_number', 'Description'])\n",
    "\n",
    "# 导出到 Excel 文件\n",
    "df.to_excel('output.xlsx', index=False)\n",
    "\n",
    "# 输出结果\n",
    "print(\"数据已导出到 output.xlsx\")"
   ]
  }
 ],
 "metadata": {
  "kernelspec": {
   "display_name": "base",
   "language": "python",
   "name": "python3"
  },
  "language_info": {
   "codemirror_mode": {
    "name": "ipython",
    "version": 3
   },
   "file_extension": ".py",
   "mimetype": "text/x-python",
   "name": "python",
   "nbconvert_exporter": "python",
   "pygments_lexer": "ipython3",
   "version": "3.11.3"
  }
 },
 "nbformat": 4,
 "nbformat_minor": 2
}
